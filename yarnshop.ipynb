{
 "cells": [
  {
   "cell_type": "code",
   "execution_count": 95,
   "metadata": {},
   "outputs": [],
   "source": [
    "#Webscrape https://www.rebellegirls.com/yarnfiber.htm for list of offered brands\n",
    "import requests\n",
    "from bs4 import BeautifulSoup\n",
    "import pandas as pd\n",
    "from APIkey import APIkey, APIpw\n",
    "import json\n",
    "import csv"
   ]
  },
  {
   "cell_type": "code",
   "execution_count": 96,
   "metadata": {},
   "outputs": [],
   "source": [
    "url= \"https://www.rebellegirls.com/yarnfiber.htm\"\n",
    "page= requests.get(url)\n",
    "\n",
    "soup=BeautifulSoup(page.content, \"html.parser\")\n",
    "results=soup.find(id=\"accordion\")\n",
    "   \n",
    "#used ChatGPT to figure out this block of webscraping code\n",
    "stock=[]\n",
    "name=[]\n",
    "brands = soup.find_all('h3')\n",
    "for brand in brands:\n",
    "    brand_name = brand.text.strip()\n",
    "    yarn_list = brand.find_next('div').find_all('li')\n",
    "    for yarn in yarn_list:\n",
    "        yarn_name = yarn.text.strip()\n",
    "        name.append(yarn_name)\n",
    "        stock.append(brand_name)\n"
   ]
  },
  {
   "cell_type": "code",
   "execution_count": 97,
   "metadata": {},
   "outputs": [
    {
     "name": "stdout",
     "output_type": "stream",
     "text": [
      "26                      Cascade+Ultra Pima\n",
      "27            Cestari+Mt Vernon Collection\n",
      "28              Cestari+Old Dominon Cotton\n",
      "29               Cestari+Traditional 2-ply\n",
      "30                    Collinette+Jitterbug\n",
      "31                 Elsbeth Lavold+Hempathy\n",
      "32            Feederbrook Farms+Entropy DK\n",
      "33         Feederbrook Farms+Entropy Sport\n",
      "34                 The Fiber Co.+Arranmore\n",
      "35      Frabjous Fibers+Recycled Sari Yarn\n",
      "36             Frabjous Fibers+Silk Ribbon\n",
      "37       Galler Yarns+Heather Prime Alpaca\n",
      "38              Hemp for Knitting+Allhemp3\n",
      "39              Hemp for Knitting+Allhemp6\n",
      "40               Hemp for Knitting+Hempton\n",
      "41                    Juniper Moon+Cumulus\n",
      "42                   Juniper Moon+Zooey DK\n",
      "43                Kelbourne Woolens+Mojave\n",
      "44                  Knit Collage+Cast Away\n",
      "45                 Knit Collage+Pixie Dust\n",
      "46               Knit Collage+Sampler Kits\n",
      "47                 Knit Collage+Spun Cloud\n",
      "48                   Knitted Wit+Fingering\n",
      "49                    Knitted Wit+Gumballs\n",
      "50    Knitted Wit+Sassy Holidays Sock Club\n",
      "Name: combined, dtype: object\n"
     ]
    }
   ],
   "source": [
    "#create dataframe of Local Yarn Shop (LYS) offerings\n",
    "stock_list={\"stock\":stock, \"name\":name}\n",
    "rebelle=pd.DataFrame(stock_list)\n",
    "\n",
    "rebelle['combined']=rebelle['stock']+ '+'+ rebelle['name']\n",
    "print(rebelle['combined'].iloc[26:51])\n"
   ]
  },
  {
   "cell_type": "code",
   "execution_count": 98,
   "metadata": {},
   "outputs": [],
   "source": [
    "#Code I used to create the ravelry_api.csv file\n",
    "#Future project is to figure out how to turn this into a FOR LOOP, \n",
    "#but couldn't logic it currently and didn't want to waste more time not moving forward on project\n",
    "#Had to change yarn name in both url and yarn variable, Be sure to CLEAR ALL OUTPUTS after each yarn\n",
    "\n",
    "#url = 'https://api.ravelry.com/patterns/search.json?yarn=Frabjous+Fibers+Silk+Ribbon'\n",
    "\n",
    "#response=requests.get(url, auth= (APIkey, APIpw))\n",
    "\n",
    "#response\n",
    "\n",
    "\n"
   ]
  },
  {
   "cell_type": "code",
   "execution_count": 99,
   "metadata": {},
   "outputs": [],
   "source": [
    "#rav_things=response.json()\n",
    "#patterns= rav_things.get('patterns')\n",
    "#fiber= pd.DataFrame(response.json()['patterns'])\n",
    "\n",
    "#fiber['yarn']= 'Frabjous Fibers Silk Ribbon'\n",
    "\n",
    "#fiber.shape"
   ]
  },
  {
   "cell_type": "code",
   "execution_count": 100,
   "metadata": {},
   "outputs": [],
   "source": [
    "#fiber.to_csv('ravelry_api.csv', mode='a', index= False, header= False)"
   ]
  },
  {
   "cell_type": "code",
   "execution_count": null,
   "metadata": {},
   "outputs": [],
   "source": []
  }
 ],
 "metadata": {
  "kernelspec": {
   "display_name": "venv",
   "language": "python",
   "name": "python3"
  },
  "language_info": {
   "codemirror_mode": {
    "name": "ipython",
    "version": 3
   },
   "file_extension": ".py",
   "mimetype": "text/x-python",
   "name": "python",
   "nbconvert_exporter": "python",
   "pygments_lexer": "ipython3",
   "version": "3.12.9"
  }
 },
 "nbformat": 4,
 "nbformat_minor": 2
}
