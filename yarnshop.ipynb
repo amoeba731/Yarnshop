{
 "cells": [
  {
   "cell_type": "code",
   "execution_count": 4,
   "metadata": {},
   "outputs": [],
   "source": [
    "#Webscrape https://www.rebellegirls.com/yarnfiber.htm for list of offered brands\n",
    "import requests\n",
    "from bs4 import BeautifulSoup\n",
    "import pandas as pd\n",
    "\n"
   ]
  },
  {
   "cell_type": "code",
   "execution_count": 5,
   "metadata": {},
   "outputs": [],
   "source": [
    "url= \"https://www.rebellegirls.com/yarnfiber.htm\"\n",
    "page= requests.get(url)\n",
    "\n",
    "soup=BeautifulSoup(page.content, \"html.parser\")\n",
    "results=soup.find(id=\"accordion\")\n",
    "   \n",
    "#used ChatGPT to figure out this block of webscraping code\n",
    "stock=[]\n",
    "name=[]\n",
    "brands = soup.find_all('h3')\n",
    "for brand in brands:\n",
    "    brand_name = brand.text.strip()\n",
    "    yarn_list = brand.find_next('div').find_all('li')\n",
    "    for yarn in yarn_list:\n",
    "        yarn_name = yarn.text.strip()\n",
    "        name.append(yarn_name)\n",
    "        stock.append(brand_name)\n"
   ]
  },
  {
   "cell_type": "code",
   "execution_count": 8,
   "metadata": {},
   "outputs": [
    {
     "name": "stdout",
     "output_type": "stream",
     "text": [
      "0          Adriafil Knitcol\n",
      "1             Anzula Breeze\n",
      "2              Anzula Cloud\n",
      "3              Anzula Haiku\n",
      "4            Anzula Lunaris\n",
      "               ...         \n",
      "125        Add-Ins Firestar\n",
      "126        Add-Ins Angelina\n",
      "127        Add-Ins Soffsilk\n",
      "128    Add-Ins Silk Cocoons\n",
      "129      Add-Ins Silk Noils\n",
      "Name: Combined, Length: 130, dtype: object\n"
     ]
    }
   ],
   "source": [
    "#create database\n",
    "stock_list={\"stock\":stock, \"name\":name}\n",
    "rebelle=pd.DataFrame(stock_list)\n",
    "\n",
    "rebelle['Combined'] = df['stock'] + ' '+ df['name']\n",
    "print(rebelle['Combined'])\n"
   ]
  }
 ],
 "metadata": {
  "kernelspec": {
   "display_name": "venv",
   "language": "python",
   "name": "python3"
  },
  "language_info": {
   "codemirror_mode": {
    "name": "ipython",
    "version": 3
   },
   "file_extension": ".py",
   "mimetype": "text/x-python",
   "name": "python",
   "nbconvert_exporter": "python",
   "pygments_lexer": "ipython3",
   "version": "3.12.9"
  }
 },
 "nbformat": 4,
 "nbformat_minor": 2
}
