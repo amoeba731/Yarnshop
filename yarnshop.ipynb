{
 "cells": [
  {
   "cell_type": "code",
   "execution_count": 104,
   "metadata": {},
   "outputs": [],
   "source": [
    "#Webscrape https://www.rebellegirls.com/yarnfiber.htm for list of offered brands\n",
    "import requests\n",
    "from bs4 import BeautifulSoup\n",
    "import pandas as pd\n",
    "from APIkey import APIkey, APIpw\n",
    "import json\n",
    "import csv\n",
    "import matplotlib.pyplot as plt"
   ]
  },
  {
   "cell_type": "code",
   "execution_count": 96,
   "metadata": {},
   "outputs": [],
   "source": [
    "url= \"https://www.rebellegirls.com/yarnfiber.htm\"\n",
    "page= requests.get(url)\n",
    "\n",
    "soup=BeautifulSoup(page.content, \"html.parser\")\n",
    "results=soup.find(id=\"accordion\")\n",
    "   \n",
    "#used ChatGPT to figure out this block of webscraping code\n",
    "stock=[]\n",
    "name=[]\n",
    "brands = soup.find_all('h3')\n",
    "for brand in brands:\n",
    "    brand_name = brand.text.strip()\n",
    "    yarn_list = brand.find_next('div').find_all('li')\n",
    "    for yarn in yarn_list:\n",
    "        yarn_name = yarn.text.strip()\n",
    "        name.append(yarn_name)\n",
    "        stock.append(brand_name)\n"
   ]
  },
  {
   "cell_type": "code",
   "execution_count": 97,
   "metadata": {},
   "outputs": [
    {
     "name": "stdout",
     "output_type": "stream",
     "text": [
      "26                      Cascade+Ultra Pima\n",
      "27            Cestari+Mt Vernon Collection\n",
      "28              Cestari+Old Dominon Cotton\n",
      "29               Cestari+Traditional 2-ply\n",
      "30                    Collinette+Jitterbug\n",
      "31                 Elsbeth Lavold+Hempathy\n",
      "32            Feederbrook Farms+Entropy DK\n",
      "33         Feederbrook Farms+Entropy Sport\n",
      "34                 The Fiber Co.+Arranmore\n",
      "35      Frabjous Fibers+Recycled Sari Yarn\n",
      "36             Frabjous Fibers+Silk Ribbon\n",
      "37       Galler Yarns+Heather Prime Alpaca\n",
      "38              Hemp for Knitting+Allhemp3\n",
      "39              Hemp for Knitting+Allhemp6\n",
      "40               Hemp for Knitting+Hempton\n",
      "41                    Juniper Moon+Cumulus\n",
      "42                   Juniper Moon+Zooey DK\n",
      "43                Kelbourne Woolens+Mojave\n",
      "44                  Knit Collage+Cast Away\n",
      "45                 Knit Collage+Pixie Dust\n",
      "46               Knit Collage+Sampler Kits\n",
      "47                 Knit Collage+Spun Cloud\n",
      "48                   Knitted Wit+Fingering\n",
      "49                    Knitted Wit+Gumballs\n",
      "50    Knitted Wit+Sassy Holidays Sock Club\n",
      "Name: combined, dtype: object\n"
     ]
    }
   ],
   "source": [
    "#create dataframe of Local Yarn Shop (LYS) offerings\n",
    "stock_list={\"stock\":stock, \"name\":name}\n",
    "rebelle=pd.DataFrame(stock_list)\n",
    "\n",
    "rebelle['combined']=rebelle['stock']+ '+'+ rebelle['name']\n",
    "print(rebelle['combined'].iloc[26:51])\n"
   ]
  },
  {
   "cell_type": "code",
   "execution_count": null,
   "metadata": {},
   "outputs": [],
   "source": [
    "#Code I used to create the ravelry_api.csv file\n",
    "#Future project is to figure out how to turn this into a FOR LOOP, \n",
    "#but couldn't logic it currently and didn't want to waste more time not moving forward on project\n",
    "#Had to change yarn name in both url and yarn variable, Be sure to CLEAR ALL OUTPUTS after each yarn\n",
    "\n",
    "#import requests\n",
    "#import pandas as pd\n",
    "#import json\n",
    "#import csv\n",
    "\n",
    "#url = 'https://api.ravelry.com/patterns/search.json?yarn=Frabjous+Fibers+Silk+Ribbon'\n",
    "\n",
    "#response=requests.get(url, auth= (APIkey, APIpw))\n",
    "\n",
    "#response\n",
    "\n",
    "#SEPERATE CELL\n",
    "#rav_things=response.json()\n",
    "#patterns= rav_things.get('patterns')\n",
    "#fiber= pd.DataFrame(response.json()['patterns'])\n",
    "\n",
    "#fiber['yarn']= 'Frabjous Fibers Silk Ribbon'\n",
    "\n",
    "#fiber.shape\n",
    "\n",
    "#SEPERATE CELL\n",
    "#fiber.to_csv('ravelry_api.csv', mode='a', index= False, header= False)\n",
    "\n"
   ]
  },
  {
   "cell_type": "code",
   "execution_count": 106,
   "metadata": {},
   "outputs": [],
   "source": [
    "projects=pd.read_csv('ravelry_api.csv')"
   ]
  },
  {
   "cell_type": "code",
   "execution_count": 123,
   "metadata": {},
   "outputs": [
    {
     "data": {
      "text/plain": [
       "<bound method NDFrame.head of        free       id                       name                  permalink  \\\n",
       "0     False   706936            Puff Stitch Hat          puff-stitch-hat-9   \n",
       "1      True   650697       Toe-Up Worsted Socks       toe-up-worsted-socks   \n",
       "2      True    93685  Child's Self-striping Hat   childs-self-striping-hat   \n",
       "3      True   545271           Best Baby Beanie           best-baby-beanie   \n",
       "4      True   317207  F193 Baby / Toddler Socks  f193-baby---toddler-socks   \n",
       "...     ...      ...                        ...                        ...   \n",
       "2586  False   593039       Vinyasa Yoga Mat Bag       vinyasa-yoga-mat-bag   \n",
       "2587  False   166903             Ribs & Ribbons              ribs--ribbons   \n",
       "2588  False   276263               Desiree Cowl               desiree-cowl   \n",
       "2589  False   486441                     Käädyt                     kaadyt   \n",
       "2590  False  1249758           Woven Silks Wrap           woven-silks-wrap   \n",
       "\n",
       "                                               designer  \\\n",
       "0     {'crochet_pattern_count': 0, 'favorites_count'...   \n",
       "1     {'crochet_pattern_count': 0, 'favorites_count'...   \n",
       "2     {'crochet_pattern_count': 0, 'favorites_count'...   \n",
       "3     {'crochet_pattern_count': 0, 'favorites_count'...   \n",
       "4     {'crochet_pattern_count': 0, 'favorites_count'...   \n",
       "...                                                 ...   \n",
       "2586  {'crochet_pattern_count': 14, 'favorites_count...   \n",
       "2587  {'crochet_pattern_count': 0, 'favorites_count'...   \n",
       "2588  {'crochet_pattern_count': 114, 'favorites_coun...   \n",
       "2589  {'crochet_pattern_count': 1, 'favorites_count'...   \n",
       "2590  {'crochet_pattern_count': 0, 'favorites_count'...   \n",
       "\n",
       "                                         pattern_author  \\\n",
       "0     {'crochet_pattern_count': 0, 'favorites_count'...   \n",
       "1     {'crochet_pattern_count': 0, 'favorites_count'...   \n",
       "2     {'crochet_pattern_count': 0, 'favorites_count'...   \n",
       "3     {'crochet_pattern_count': 0, 'favorites_count'...   \n",
       "4     {'crochet_pattern_count': 0, 'favorites_count'...   \n",
       "...                                                 ...   \n",
       "2586  {'crochet_pattern_count': 14, 'favorites_count...   \n",
       "2587  {'crochet_pattern_count': 0, 'favorites_count'...   \n",
       "2588  {'crochet_pattern_count': 114, 'favorites_coun...   \n",
       "2589  {'crochet_pattern_count': 1, 'favorites_count'...   \n",
       "2590  {'crochet_pattern_count': 0, 'favorites_count'...   \n",
       "\n",
       "                                    yarn  \n",
       "0                       Adriafil Knitcol  \n",
       "1                       Adriafil Knitcol  \n",
       "2                       Adriafil Knitcol  \n",
       "3                       Adriafil Knitcol  \n",
       "4                       Adriafil Knitcol  \n",
       "...                                  ...  \n",
       "2586  Frabjous Fibers Recycled Sari Yarn  \n",
       "2587         Frabjous Fibers Silk Ribbon  \n",
       "2588         Frabjous Fibers Silk Ribbon  \n",
       "2589         Frabjous Fibers Silk Ribbon  \n",
       "2590         Frabjous Fibers Silk Ribbon  \n",
       "\n",
       "[2591 rows x 7 columns]>"
      ]
     },
     "execution_count": 123,
     "metadata": {},
     "output_type": "execute_result"
    }
   ],
   "source": [
    "projects.columns=['free', 'id', 'name', 'permalink','designer', 'pattern_author', 'yarn']\n",
    "\n",
    "projects.head"
   ]
  },
  {
   "cell_type": "code",
   "execution_count": null,
   "metadata": {},
   "outputs": [
    {
     "ename": "KeyError",
     "evalue": "\"['first_photo'] not found in axis\"",
     "output_type": "error",
     "traceback": [
      "\u001b[1;31m---------------------------------------------------------------------------\u001b[0m",
      "\u001b[1;31mKeyError\u001b[0m                                  Traceback (most recent call last)",
      "Cell \u001b[1;32mIn[112], line 1\u001b[0m\n\u001b[1;32m----> 1\u001b[0m projects\u001b[38;5;241m=\u001b[39m\u001b[43mprojects\u001b[49m\u001b[38;5;241;43m.\u001b[39;49m\u001b[43mdrop\u001b[49m\u001b[43m(\u001b[49m\u001b[38;5;124;43m'\u001b[39;49m\u001b[38;5;124;43mfirst_photo\u001b[39;49m\u001b[38;5;124;43m'\u001b[39;49m\u001b[43m,\u001b[49m\u001b[43m \u001b[49m\u001b[43maxis\u001b[49m\u001b[38;5;241;43m=\u001b[39;49m\u001b[38;5;241;43m1\u001b[39;49m\u001b[43m)\u001b[49m\n\u001b[0;32m      2\u001b[0m projects\u001b[38;5;241m.\u001b[39mhead\n",
      "File \u001b[1;32mc:\\Users\\amoeb\\Documents\\Data_analytics\\capstone\\venv\\Lib\\site-packages\\pandas\\core\\frame.py:5581\u001b[0m, in \u001b[0;36mDataFrame.drop\u001b[1;34m(self, labels, axis, index, columns, level, inplace, errors)\u001b[0m\n\u001b[0;32m   5433\u001b[0m \u001b[38;5;28;01mdef\u001b[39;00m\u001b[38;5;250m \u001b[39m\u001b[38;5;21mdrop\u001b[39m(\n\u001b[0;32m   5434\u001b[0m     \u001b[38;5;28mself\u001b[39m,\n\u001b[0;32m   5435\u001b[0m     labels: IndexLabel \u001b[38;5;241m|\u001b[39m \u001b[38;5;28;01mNone\u001b[39;00m \u001b[38;5;241m=\u001b[39m \u001b[38;5;28;01mNone\u001b[39;00m,\n\u001b[1;32m   (...)\u001b[0m\n\u001b[0;32m   5442\u001b[0m     errors: IgnoreRaise \u001b[38;5;241m=\u001b[39m \u001b[38;5;124m\"\u001b[39m\u001b[38;5;124mraise\u001b[39m\u001b[38;5;124m\"\u001b[39m,\n\u001b[0;32m   5443\u001b[0m ) \u001b[38;5;241m-\u001b[39m\u001b[38;5;241m>\u001b[39m DataFrame \u001b[38;5;241m|\u001b[39m \u001b[38;5;28;01mNone\u001b[39;00m:\n\u001b[0;32m   5444\u001b[0m \u001b[38;5;250m    \u001b[39m\u001b[38;5;124;03m\"\"\"\u001b[39;00m\n\u001b[0;32m   5445\u001b[0m \u001b[38;5;124;03m    Drop specified labels from rows or columns.\u001b[39;00m\n\u001b[0;32m   5446\u001b[0m \n\u001b[1;32m   (...)\u001b[0m\n\u001b[0;32m   5579\u001b[0m \u001b[38;5;124;03m            weight  1.0     0.8\u001b[39;00m\n\u001b[0;32m   5580\u001b[0m \u001b[38;5;124;03m    \"\"\"\u001b[39;00m\n\u001b[1;32m-> 5581\u001b[0m     \u001b[38;5;28;01mreturn\u001b[39;00m \u001b[38;5;28;43msuper\u001b[39;49m\u001b[43m(\u001b[49m\u001b[43m)\u001b[49m\u001b[38;5;241;43m.\u001b[39;49m\u001b[43mdrop\u001b[49m\u001b[43m(\u001b[49m\n\u001b[0;32m   5582\u001b[0m \u001b[43m        \u001b[49m\u001b[43mlabels\u001b[49m\u001b[38;5;241;43m=\u001b[39;49m\u001b[43mlabels\u001b[49m\u001b[43m,\u001b[49m\n\u001b[0;32m   5583\u001b[0m \u001b[43m        \u001b[49m\u001b[43maxis\u001b[49m\u001b[38;5;241;43m=\u001b[39;49m\u001b[43maxis\u001b[49m\u001b[43m,\u001b[49m\n\u001b[0;32m   5584\u001b[0m \u001b[43m        \u001b[49m\u001b[43mindex\u001b[49m\u001b[38;5;241;43m=\u001b[39;49m\u001b[43mindex\u001b[49m\u001b[43m,\u001b[49m\n\u001b[0;32m   5585\u001b[0m \u001b[43m        \u001b[49m\u001b[43mcolumns\u001b[49m\u001b[38;5;241;43m=\u001b[39;49m\u001b[43mcolumns\u001b[49m\u001b[43m,\u001b[49m\n\u001b[0;32m   5586\u001b[0m \u001b[43m        \u001b[49m\u001b[43mlevel\u001b[49m\u001b[38;5;241;43m=\u001b[39;49m\u001b[43mlevel\u001b[49m\u001b[43m,\u001b[49m\n\u001b[0;32m   5587\u001b[0m \u001b[43m        \u001b[49m\u001b[43minplace\u001b[49m\u001b[38;5;241;43m=\u001b[39;49m\u001b[43minplace\u001b[49m\u001b[43m,\u001b[49m\n\u001b[0;32m   5588\u001b[0m \u001b[43m        \u001b[49m\u001b[43merrors\u001b[49m\u001b[38;5;241;43m=\u001b[39;49m\u001b[43merrors\u001b[49m\u001b[43m,\u001b[49m\n\u001b[0;32m   5589\u001b[0m \u001b[43m    \u001b[49m\u001b[43m)\u001b[49m\n",
      "File \u001b[1;32mc:\\Users\\amoeb\\Documents\\Data_analytics\\capstone\\venv\\Lib\\site-packages\\pandas\\core\\generic.py:4788\u001b[0m, in \u001b[0;36mNDFrame.drop\u001b[1;34m(self, labels, axis, index, columns, level, inplace, errors)\u001b[0m\n\u001b[0;32m   4786\u001b[0m \u001b[38;5;28;01mfor\u001b[39;00m axis, labels \u001b[38;5;129;01min\u001b[39;00m axes\u001b[38;5;241m.\u001b[39mitems():\n\u001b[0;32m   4787\u001b[0m     \u001b[38;5;28;01mif\u001b[39;00m labels \u001b[38;5;129;01mis\u001b[39;00m \u001b[38;5;129;01mnot\u001b[39;00m \u001b[38;5;28;01mNone\u001b[39;00m:\n\u001b[1;32m-> 4788\u001b[0m         obj \u001b[38;5;241m=\u001b[39m \u001b[43mobj\u001b[49m\u001b[38;5;241;43m.\u001b[39;49m\u001b[43m_drop_axis\u001b[49m\u001b[43m(\u001b[49m\u001b[43mlabels\u001b[49m\u001b[43m,\u001b[49m\u001b[43m \u001b[49m\u001b[43maxis\u001b[49m\u001b[43m,\u001b[49m\u001b[43m \u001b[49m\u001b[43mlevel\u001b[49m\u001b[38;5;241;43m=\u001b[39;49m\u001b[43mlevel\u001b[49m\u001b[43m,\u001b[49m\u001b[43m \u001b[49m\u001b[43merrors\u001b[49m\u001b[38;5;241;43m=\u001b[39;49m\u001b[43merrors\u001b[49m\u001b[43m)\u001b[49m\n\u001b[0;32m   4790\u001b[0m \u001b[38;5;28;01mif\u001b[39;00m inplace:\n\u001b[0;32m   4791\u001b[0m     \u001b[38;5;28mself\u001b[39m\u001b[38;5;241m.\u001b[39m_update_inplace(obj)\n",
      "File \u001b[1;32mc:\\Users\\amoeb\\Documents\\Data_analytics\\capstone\\venv\\Lib\\site-packages\\pandas\\core\\generic.py:4830\u001b[0m, in \u001b[0;36mNDFrame._drop_axis\u001b[1;34m(self, labels, axis, level, errors, only_slice)\u001b[0m\n\u001b[0;32m   4828\u001b[0m         new_axis \u001b[38;5;241m=\u001b[39m axis\u001b[38;5;241m.\u001b[39mdrop(labels, level\u001b[38;5;241m=\u001b[39mlevel, errors\u001b[38;5;241m=\u001b[39merrors)\n\u001b[0;32m   4829\u001b[0m     \u001b[38;5;28;01melse\u001b[39;00m:\n\u001b[1;32m-> 4830\u001b[0m         new_axis \u001b[38;5;241m=\u001b[39m \u001b[43maxis\u001b[49m\u001b[38;5;241;43m.\u001b[39;49m\u001b[43mdrop\u001b[49m\u001b[43m(\u001b[49m\u001b[43mlabels\u001b[49m\u001b[43m,\u001b[49m\u001b[43m \u001b[49m\u001b[43merrors\u001b[49m\u001b[38;5;241;43m=\u001b[39;49m\u001b[43merrors\u001b[49m\u001b[43m)\u001b[49m\n\u001b[0;32m   4831\u001b[0m     indexer \u001b[38;5;241m=\u001b[39m axis\u001b[38;5;241m.\u001b[39mget_indexer(new_axis)\n\u001b[0;32m   4833\u001b[0m \u001b[38;5;66;03m# Case for non-unique axis\u001b[39;00m\n\u001b[0;32m   4834\u001b[0m \u001b[38;5;28;01melse\u001b[39;00m:\n",
      "File \u001b[1;32mc:\\Users\\amoeb\\Documents\\Data_analytics\\capstone\\venv\\Lib\\site-packages\\pandas\\core\\indexes\\base.py:7070\u001b[0m, in \u001b[0;36mIndex.drop\u001b[1;34m(self, labels, errors)\u001b[0m\n\u001b[0;32m   7068\u001b[0m \u001b[38;5;28;01mif\u001b[39;00m mask\u001b[38;5;241m.\u001b[39many():\n\u001b[0;32m   7069\u001b[0m     \u001b[38;5;28;01mif\u001b[39;00m errors \u001b[38;5;241m!=\u001b[39m \u001b[38;5;124m\"\u001b[39m\u001b[38;5;124mignore\u001b[39m\u001b[38;5;124m\"\u001b[39m:\n\u001b[1;32m-> 7070\u001b[0m         \u001b[38;5;28;01mraise\u001b[39;00m \u001b[38;5;167;01mKeyError\u001b[39;00m(\u001b[38;5;124mf\u001b[39m\u001b[38;5;124m\"\u001b[39m\u001b[38;5;132;01m{\u001b[39;00mlabels[mask]\u001b[38;5;241m.\u001b[39mtolist()\u001b[38;5;132;01m}\u001b[39;00m\u001b[38;5;124m not found in axis\u001b[39m\u001b[38;5;124m\"\u001b[39m)\n\u001b[0;32m   7071\u001b[0m     indexer \u001b[38;5;241m=\u001b[39m indexer[\u001b[38;5;241m~\u001b[39mmask]\n\u001b[0;32m   7072\u001b[0m \u001b[38;5;28;01mreturn\u001b[39;00m \u001b[38;5;28mself\u001b[39m\u001b[38;5;241m.\u001b[39mdelete(indexer)\n",
      "\u001b[1;31mKeyError\u001b[0m: \"['first_photo'] not found in axis\""
     ]
    }
   ],
   "source": [
    "projects=projects.drop('first_photo', axis=1)\n"
   ]
  },
  {
   "cell_type": "code",
   "execution_count": 114,
   "metadata": {},
   "outputs": [
    {
     "name": "stdout",
     "output_type": "stream",
     "text": [
      "<bound method NDFrame.head of        free       id                       name                  permalink  \\\n",
      "0     False   706936            Puff Stitch Hat          puff-stitch-hat-9   \n",
      "1      True   650697       Toe-Up Worsted Socks       toe-up-worsted-socks   \n",
      "2      True    93685  Child's Self-striping Hat   childs-self-striping-hat   \n",
      "3      True   545271           Best Baby Beanie           best-baby-beanie   \n",
      "4      True   317207  F193 Baby / Toddler Socks  f193-baby---toddler-socks   \n",
      "...     ...      ...                        ...                        ...   \n",
      "2586  False   593039       Vinyasa Yoga Mat Bag       vinyasa-yoga-mat-bag   \n",
      "2587  False   166903             Ribs & Ribbons              ribs--ribbons   \n",
      "2588  False   276263               Desiree Cowl               desiree-cowl   \n",
      "2589  False   486441                     Käädyt                     kaadyt   \n",
      "2590  False  1249758           Woven Silks Wrap           woven-silks-wrap   \n",
      "\n",
      "      personal_attributes                                           designer  \\\n",
      "0                     NaN  {'crochet_pattern_count': 0, 'favorites_count'...   \n",
      "1                     NaN  {'crochet_pattern_count': 0, 'favorites_count'...   \n",
      "2                     NaN  {'crochet_pattern_count': 0, 'favorites_count'...   \n",
      "3                     NaN  {'crochet_pattern_count': 0, 'favorites_count'...   \n",
      "4                     NaN  {'crochet_pattern_count': 0, 'favorites_count'...   \n",
      "...                   ...                                                ...   \n",
      "2586                  NaN  {'crochet_pattern_count': 14, 'favorites_count...   \n",
      "2587                  NaN  {'crochet_pattern_count': 0, 'favorites_count'...   \n",
      "2588                  NaN  {'crochet_pattern_count': 114, 'favorites_coun...   \n",
      "2589                  NaN  {'crochet_pattern_count': 1, 'favorites_count'...   \n",
      "2590                  NaN  {'crochet_pattern_count': 0, 'favorites_count'...   \n",
      "\n",
      "                                         pattern_author  \\\n",
      "0     {'crochet_pattern_count': 0, 'favorites_count'...   \n",
      "1     {'crochet_pattern_count': 0, 'favorites_count'...   \n",
      "2     {'crochet_pattern_count': 0, 'favorites_count'...   \n",
      "3     {'crochet_pattern_count': 0, 'favorites_count'...   \n",
      "4     {'crochet_pattern_count': 0, 'favorites_count'...   \n",
      "...                                                 ...   \n",
      "2586  {'crochet_pattern_count': 14, 'favorites_count...   \n",
      "2587  {'crochet_pattern_count': 0, 'favorites_count'...   \n",
      "2588  {'crochet_pattern_count': 114, 'favorites_coun...   \n",
      "2589  {'crochet_pattern_count': 1, 'favorites_count'...   \n",
      "2590  {'crochet_pattern_count': 0, 'favorites_count'...   \n",
      "\n",
      "                                        pattern_sources  \\\n",
      "0     [{'amazon_rating': None, 'amazon_reviews': Non...   \n",
      "1     [{'amazon_rating': None, 'amazon_reviews': Non...   \n",
      "2     [{'amazon_rating': None, 'amazon_reviews': Non...   \n",
      "3     [{'amazon_rating': None, 'amazon_reviews': Non...   \n",
      "4     [{'amazon_rating': None, 'amazon_reviews': Non...   \n",
      "...                                                 ...   \n",
      "2586  [{'amazon_rating': None, 'amazon_reviews': Non...   \n",
      "2587  [{'amazon_rating': None, 'amazon_reviews': Non...   \n",
      "2588  [{'amazon_rating': None, 'amazon_reviews': Non...   \n",
      "2589  [{'amazon_rating': None, 'amazon_reviews': Non...   \n",
      "2590  [{'amazon_rating': None, 'amazon_reviews': Non...   \n",
      "\n",
      "                                    yarn  \n",
      "0                       Adriafil Knitcol  \n",
      "1                       Adriafil Knitcol  \n",
      "2                       Adriafil Knitcol  \n",
      "3                       Adriafil Knitcol  \n",
      "4                       Adriafil Knitcol  \n",
      "...                                  ...  \n",
      "2586  Frabjous Fibers Recycled Sari Yarn  \n",
      "2587         Frabjous Fibers Silk Ribbon  \n",
      "2588         Frabjous Fibers Silk Ribbon  \n",
      "2589         Frabjous Fibers Silk Ribbon  \n",
      "2590         Frabjous Fibers Silk Ribbon  \n",
      "\n",
      "[2591 rows x 9 columns]>\n"
     ]
    }
   ],
   "source": [
    "print(projects.head)"
   ]
  },
  {
   "cell_type": "code",
   "execution_count": 115,
   "metadata": {},
   "outputs": [
    {
     "name": "stdout",
     "output_type": "stream",
     "text": [
      "<bound method NDFrame.head of        free       id                       name                  permalink  \\\n",
      "0     False   706936            Puff Stitch Hat          puff-stitch-hat-9   \n",
      "1      True   650697       Toe-Up Worsted Socks       toe-up-worsted-socks   \n",
      "2      True    93685  Child's Self-striping Hat   childs-self-striping-hat   \n",
      "3      True   545271           Best Baby Beanie           best-baby-beanie   \n",
      "4      True   317207  F193 Baby / Toddler Socks  f193-baby---toddler-socks   \n",
      "...     ...      ...                        ...                        ...   \n",
      "2586  False   593039       Vinyasa Yoga Mat Bag       vinyasa-yoga-mat-bag   \n",
      "2587  False   166903             Ribs & Ribbons              ribs--ribbons   \n",
      "2588  False   276263               Desiree Cowl               desiree-cowl   \n",
      "2589  False   486441                     Käädyt                     kaadyt   \n",
      "2590  False  1249758           Woven Silks Wrap           woven-silks-wrap   \n",
      "\n",
      "      personal_attributes                                           designer  \\\n",
      "0                     NaN  {'crochet_pattern_count': 0, 'favorites_count'...   \n",
      "1                     NaN  {'crochet_pattern_count': 0, 'favorites_count'...   \n",
      "2                     NaN  {'crochet_pattern_count': 0, 'favorites_count'...   \n",
      "3                     NaN  {'crochet_pattern_count': 0, 'favorites_count'...   \n",
      "4                     NaN  {'crochet_pattern_count': 0, 'favorites_count'...   \n",
      "...                   ...                                                ...   \n",
      "2586                  NaN  {'crochet_pattern_count': 14, 'favorites_count...   \n",
      "2587                  NaN  {'crochet_pattern_count': 0, 'favorites_count'...   \n",
      "2588                  NaN  {'crochet_pattern_count': 114, 'favorites_coun...   \n",
      "2589                  NaN  {'crochet_pattern_count': 1, 'favorites_count'...   \n",
      "2590                  NaN  {'crochet_pattern_count': 0, 'favorites_count'...   \n",
      "\n",
      "                                         pattern_author  \\\n",
      "0     {'crochet_pattern_count': 0, 'favorites_count'...   \n",
      "1     {'crochet_pattern_count': 0, 'favorites_count'...   \n",
      "2     {'crochet_pattern_count': 0, 'favorites_count'...   \n",
      "3     {'crochet_pattern_count': 0, 'favorites_count'...   \n",
      "4     {'crochet_pattern_count': 0, 'favorites_count'...   \n",
      "...                                                 ...   \n",
      "2586  {'crochet_pattern_count': 14, 'favorites_count...   \n",
      "2587  {'crochet_pattern_count': 0, 'favorites_count'...   \n",
      "2588  {'crochet_pattern_count': 114, 'favorites_coun...   \n",
      "2589  {'crochet_pattern_count': 1, 'favorites_count'...   \n",
      "2590  {'crochet_pattern_count': 0, 'favorites_count'...   \n",
      "\n",
      "                                    yarn  \n",
      "0                       Adriafil Knitcol  \n",
      "1                       Adriafil Knitcol  \n",
      "2                       Adriafil Knitcol  \n",
      "3                       Adriafil Knitcol  \n",
      "4                       Adriafil Knitcol  \n",
      "...                                  ...  \n",
      "2586  Frabjous Fibers Recycled Sari Yarn  \n",
      "2587         Frabjous Fibers Silk Ribbon  \n",
      "2588         Frabjous Fibers Silk Ribbon  \n",
      "2589         Frabjous Fibers Silk Ribbon  \n",
      "2590         Frabjous Fibers Silk Ribbon  \n",
      "\n",
      "[2591 rows x 8 columns]>\n"
     ]
    }
   ],
   "source": [
    "projects=projects.drop('pattern_sources', axis=1)\n",
    "print(projects.head)"
   ]
  },
  {
   "cell_type": "code",
   "execution_count": 116,
   "metadata": {},
   "outputs": [
    {
     "data": {
      "text/plain": [
       "Series([], Name: count, dtype: int64)"
      ]
     },
     "execution_count": 116,
     "metadata": {},
     "output_type": "execute_result"
    }
   ],
   "source": [
    "projects.personal_attributes.value_counts()"
   ]
  },
  {
   "cell_type": "code",
   "execution_count": 117,
   "metadata": {},
   "outputs": [
    {
     "data": {
      "text/plain": [
       "count    0.0\n",
       "mean     NaN\n",
       "std      NaN\n",
       "min      NaN\n",
       "25%      NaN\n",
       "50%      NaN\n",
       "75%      NaN\n",
       "max      NaN\n",
       "Name: personal_attributes, dtype: float64"
      ]
     },
     "execution_count": 117,
     "metadata": {},
     "output_type": "execute_result"
    }
   ],
   "source": [
    "projects.personal_attributes.describe()"
   ]
  },
  {
   "cell_type": "code",
   "execution_count": 119,
   "metadata": {},
   "outputs": [
    {
     "name": "stdout",
     "output_type": "stream",
     "text": [
      "<bound method NDFrame.head of        free       id                       name                  permalink  \\\n",
      "0     False   706936            Puff Stitch Hat          puff-stitch-hat-9   \n",
      "1      True   650697       Toe-Up Worsted Socks       toe-up-worsted-socks   \n",
      "2      True    93685  Child's Self-striping Hat   childs-self-striping-hat   \n",
      "3      True   545271           Best Baby Beanie           best-baby-beanie   \n",
      "4      True   317207  F193 Baby / Toddler Socks  f193-baby---toddler-socks   \n",
      "...     ...      ...                        ...                        ...   \n",
      "2586  False   593039       Vinyasa Yoga Mat Bag       vinyasa-yoga-mat-bag   \n",
      "2587  False   166903             Ribs & Ribbons              ribs--ribbons   \n",
      "2588  False   276263               Desiree Cowl               desiree-cowl   \n",
      "2589  False   486441                     Käädyt                     kaadyt   \n",
      "2590  False  1249758           Woven Silks Wrap           woven-silks-wrap   \n",
      "\n",
      "                                               designer  \\\n",
      "0     {'crochet_pattern_count': 0, 'favorites_count'...   \n",
      "1     {'crochet_pattern_count': 0, 'favorites_count'...   \n",
      "2     {'crochet_pattern_count': 0, 'favorites_count'...   \n",
      "3     {'crochet_pattern_count': 0, 'favorites_count'...   \n",
      "4     {'crochet_pattern_count': 0, 'favorites_count'...   \n",
      "...                                                 ...   \n",
      "2586  {'crochet_pattern_count': 14, 'favorites_count...   \n",
      "2587  {'crochet_pattern_count': 0, 'favorites_count'...   \n",
      "2588  {'crochet_pattern_count': 114, 'favorites_coun...   \n",
      "2589  {'crochet_pattern_count': 1, 'favorites_count'...   \n",
      "2590  {'crochet_pattern_count': 0, 'favorites_count'...   \n",
      "\n",
      "                                         pattern_author  \\\n",
      "0     {'crochet_pattern_count': 0, 'favorites_count'...   \n",
      "1     {'crochet_pattern_count': 0, 'favorites_count'...   \n",
      "2     {'crochet_pattern_count': 0, 'favorites_count'...   \n",
      "3     {'crochet_pattern_count': 0, 'favorites_count'...   \n",
      "4     {'crochet_pattern_count': 0, 'favorites_count'...   \n",
      "...                                                 ...   \n",
      "2586  {'crochet_pattern_count': 14, 'favorites_count...   \n",
      "2587  {'crochet_pattern_count': 0, 'favorites_count'...   \n",
      "2588  {'crochet_pattern_count': 114, 'favorites_coun...   \n",
      "2589  {'crochet_pattern_count': 1, 'favorites_count'...   \n",
      "2590  {'crochet_pattern_count': 0, 'favorites_count'...   \n",
      "\n",
      "                                    yarn  \n",
      "0                       Adriafil Knitcol  \n",
      "1                       Adriafil Knitcol  \n",
      "2                       Adriafil Knitcol  \n",
      "3                       Adriafil Knitcol  \n",
      "4                       Adriafil Knitcol  \n",
      "...                                  ...  \n",
      "2586  Frabjous Fibers Recycled Sari Yarn  \n",
      "2587         Frabjous Fibers Silk Ribbon  \n",
      "2588         Frabjous Fibers Silk Ribbon  \n",
      "2589         Frabjous Fibers Silk Ribbon  \n",
      "2590         Frabjous Fibers Silk Ribbon  \n",
      "\n",
      "[2591 rows x 7 columns]>\n"
     ]
    }
   ],
   "source": [
    "projects=projects.drop('personal_attributes', axis=1)\n",
    "print(projects.head)"
   ]
  },
  {
   "cell_type": "code",
   "execution_count": 124,
   "metadata": {},
   "outputs": [
    {
     "data": {
      "text/plain": [
       "count                                                  2591\n",
       "unique                                                 1327\n",
       "top       {'crochet_pattern_count': 0, 'favorites_count'...\n",
       "freq                                                     58\n",
       "Name: designer, dtype: object"
      ]
     },
     "execution_count": 124,
     "metadata": {},
     "output_type": "execute_result"
    }
   ],
   "source": [
    "projects.designer.describe()"
   ]
  },
  {
   "cell_type": "code",
   "execution_count": null,
   "metadata": {},
   "outputs": [],
   "source": []
  }
 ],
 "metadata": {
  "kernelspec": {
   "display_name": "venv",
   "language": "python",
   "name": "python3"
  },
  "language_info": {
   "codemirror_mode": {
    "name": "ipython",
    "version": 3
   },
   "file_extension": ".py",
   "mimetype": "text/x-python",
   "name": "python",
   "nbconvert_exporter": "python",
   "pygments_lexer": "ipython3",
   "version": "3.12.9"
  }
 },
 "nbformat": 4,
 "nbformat_minor": 2
}
