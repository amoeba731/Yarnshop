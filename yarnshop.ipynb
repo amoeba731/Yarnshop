{
 "cells": [
  {
   "cell_type": "code",
   "execution_count": 37,
   "metadata": {},
   "outputs": [],
   "source": [
    "#Webscrape https://www.rebellegirls.com/yarnfiber.htm for list of offered brands\n",
    "import requests\n",
    "from bs4 import BeautifulSoup\n",
    "import pandas as pd\n",
    "from APIkey import APIkey, APIpw\n",
    "import json\n",
    "import csv"
   ]
  },
  {
   "cell_type": "code",
   "execution_count": 11,
   "metadata": {},
   "outputs": [],
   "source": [
    "url= \"https://www.rebellegirls.com/yarnfiber.htm\"\n",
    "page= requests.get(url)\n",
    "\n",
    "soup=BeautifulSoup(page.content, \"html.parser\")\n",
    "results=soup.find(id=\"accordion\")\n",
    "   \n",
    "#used ChatGPT to figure out this block of webscraping code\n",
    "stock=[]\n",
    "name=[]\n",
    "brands = soup.find_all('h3')\n",
    "for brand in brands:\n",
    "    brand_name = brand.text.strip()\n",
    "    yarn_list = brand.find_next('div').find_all('li')\n",
    "    for yarn in yarn_list:\n",
    "        yarn_name = yarn.text.strip()\n",
    "        name.append(yarn_name)\n",
    "        stock.append(brand_name)\n"
   ]
  },
  {
   "cell_type": "code",
   "execution_count": 12,
   "metadata": {},
   "outputs": [
    {
     "name": "stdout",
     "output_type": "stream",
     "text": [
      "0          Adriafil+Knitcol\n",
      "1             Anzula+Breeze\n",
      "2              Anzula+Cloud\n",
      "3              Anzula+Haiku\n",
      "4            Anzula+Lunaris\n",
      "               ...         \n",
      "125        Add-Ins+Firestar\n",
      "126        Add-Ins+Angelina\n",
      "127        Add-Ins+Soffsilk\n",
      "128    Add-Ins+Silk Cocoons\n",
      "129      Add-Ins+Silk Noils\n",
      "Name: combined, Length: 130, dtype: object\n"
     ]
    }
   ],
   "source": [
    "#create database\n",
    "stock_list={\"stock\":stock, \"name\":name}\n",
    "rebelle=pd.DataFrame(stock_list)\n",
    "\n",
    "rebelle['combined']=rebelle['stock']+ '+'+ rebelle['name']\n",
    "print(rebelle['combined'])\n"
   ]
  },
  {
   "cell_type": "code",
   "execution_count": 45,
   "metadata": {},
   "outputs": [
    {
     "data": {
      "text/plain": [
       "<Response [200]>"
      ]
     },
     "execution_count": 45,
     "metadata": {},
     "output_type": "execute_result"
    }
   ],
   "source": [
    "url = 'https://api.ravelry.com/patterns/search.json?yarn=Adriafil+Knitcol'\n",
    "\n",
    "yarn= 'Adriafil+Knitcol'\n",
    "\n",
    "\n",
    "    \n",
    "\n",
    "response=requests.get(url, auth= (APIkey, APIpw))\n",
    "\n",
    "response"
   ]
  },
  {
   "cell_type": "code",
   "execution_count": 47,
   "metadata": {},
   "outputs": [],
   "source": [
    "rav_things=response.json()\n",
    "patterns= rav_things.get(\"patterns\")"
   ]
  },
  {
   "cell_type": "code",
   "execution_count": 48,
   "metadata": {},
   "outputs": [],
   "source": [
    "def write_json(data, filename= \"ravelry_api.json\"):\n",
    "    with open(filename, \"w\") as f:\n",
    "        json.dump(data, f, indent=4)\n",
    "\n",
    "data=(patterns)\n",
    "write_json(data)"
   ]
  },
  {
   "cell_type": "code",
   "execution_count": 24,
   "metadata": {},
   "outputs": [],
   "source": [
    "def append_json():\n",
    "    with open('ravelry_api.json', 'r') as file:\n",
    "        \n",
    "        data= json.load(file)\n",
    "          \n",
    "        data.update(new_data)\n",
    "        \n",
    "    with open('ravelry_api.json', 'a+') as file:\n",
    "        json.dump(data, file)\n",
    "        "
   ]
  },
  {
   "cell_type": "code",
   "execution_count": 49,
   "metadata": {},
   "outputs": [
    {
     "name": "stdout",
     "output_type": "stream",
     "text": [
      "     free       id                         name                  permalink  \\\n",
      "0    True  7378256                     Mug Cozy                mug-cozy-31   \n",
      "1   False   706936              Puff Stitch Hat          puff-stitch-hat-9   \n",
      "2    True   650697         Toe-Up Worsted Socks       toe-up-worsted-socks   \n",
      "3    True    93685    Child's Self-striping Hat   childs-self-striping-hat   \n",
      "4    True   545271             Best Baby Beanie           best-baby-beanie   \n",
      "..    ...      ...                          ...                        ...   \n",
      "95   True   596470     Simple Coat Hanger Cover   simple-coat-hanger-cover   \n",
      "96  False   599187  Football Hat (sport weight)  football-hat-sport-weight   \n",
      "97  False   599270   Tricot's First Dog Sweater  tricots-first-dog-sweater   \n",
      "98   True   605701           Adriafil Monet set         adriafil-monet-set   \n",
      "99  False   605713         Adriafil Bach Poncho       adriafil-bach-poncho   \n",
      "\n",
      "   personal_attributes                                        first_photo  \\\n",
      "0                 None  {'id': 133506396, 'sort_order': 1, 'user_id': ...   \n",
      "1                 None  {'id': 118330077, 'sort_order': 1, 'user_id': ...   \n",
      "2                 None  {'id': 56297703, 'sort_order': 1, 'user_id': 1...   \n",
      "3                 None  {'id': 68575445, 'sort_order': 1, 'user_id': 1...   \n",
      "4                 None  {'id': 51898291, 'sort_order': 1, 'user_id': 3...   \n",
      "..                 ...                                                ...   \n",
      "95                None  {'id': 50737039, 'sort_order': 1, 'user_id': 1...   \n",
      "96                None  {'id': 50985385, 'sort_order': 1, 'user_id': 7...   \n",
      "97                None  {'id': 50991617, 'sort_order': 1, 'user_id': 7...   \n",
      "98                None  {'id': 51595936, 'sort_order': 1, 'user_id': 3...   \n",
      "99                None  {'id': 51596312, 'sort_order': 1, 'user_id': 3...   \n",
      "\n",
      "                                             designer  \\\n",
      "0   {'crochet_pattern_count': 6, 'favorites_count'...   \n",
      "1   {'crochet_pattern_count': 0, 'favorites_count'...   \n",
      "2   {'crochet_pattern_count': 0, 'favorites_count'...   \n",
      "3   {'crochet_pattern_count': 0, 'favorites_count'...   \n",
      "4   {'crochet_pattern_count': 0, 'favorites_count'...   \n",
      "..                                                ...   \n",
      "95  {'crochet_pattern_count': 4, 'favorites_count'...   \n",
      "96  {'crochet_pattern_count': 0, 'favorites_count'...   \n",
      "97  {'crochet_pattern_count': 0, 'favorites_count'...   \n",
      "98  {'crochet_pattern_count': 124, 'favorites_coun...   \n",
      "99  {'crochet_pattern_count': 124, 'favorites_coun...   \n",
      "\n",
      "                                       pattern_author  \\\n",
      "0   {'crochet_pattern_count': 6, 'favorites_count'...   \n",
      "1   {'crochet_pattern_count': 0, 'favorites_count'...   \n",
      "2   {'crochet_pattern_count': 0, 'favorites_count'...   \n",
      "3   {'crochet_pattern_count': 0, 'favorites_count'...   \n",
      "4   {'crochet_pattern_count': 0, 'favorites_count'...   \n",
      "..                                                ...   \n",
      "95  {'crochet_pattern_count': 4, 'favorites_count'...   \n",
      "96  {'crochet_pattern_count': 0, 'favorites_count'...   \n",
      "97  {'crochet_pattern_count': 0, 'favorites_count'...   \n",
      "98  {'crochet_pattern_count': 124, 'favorites_coun...   \n",
      "99  {'crochet_pattern_count': 124, 'favorites_coun...   \n",
      "\n",
      "                                      pattern_sources  \n",
      "0   [{'amazon_rating': None, 'amazon_reviews': Non...  \n",
      "1   [{'amazon_rating': None, 'amazon_reviews': Non...  \n",
      "2   [{'amazon_rating': None, 'amazon_reviews': Non...  \n",
      "3   [{'amazon_rating': None, 'amazon_reviews': Non...  \n",
      "4   [{'amazon_rating': None, 'amazon_reviews': Non...  \n",
      "..                                                ...  \n",
      "95  [{'amazon_rating': None, 'amazon_reviews': Non...  \n",
      "96  [{'amazon_rating': None, 'amazon_reviews': Non...  \n",
      "97  [{'amazon_rating': None, 'amazon_reviews': Non...  \n",
      "98  [{'amazon_rating': None, 'amazon_reviews': Non...  \n",
      "99  [{'amazon_rating': None, 'amazon_reviews': Non...  \n",
      "\n",
      "[100 rows x 9 columns]\n"
     ]
    }
   ],
   "source": [
    "with open('ravelry_api.json') as f:\n",
    "        \n",
    "    data= json.load(f)\n",
    "    \n",
    "df= pd.DataFrame(data)\n",
    "\n",
    "print(df)"
   ]
  },
  {
   "cell_type": "code",
   "execution_count": null,
   "metadata": {},
   "outputs": [],
   "source": [
    "with open('ravelry_api.json') as f:\n",
    "    data= json.loads(f)\n",
    "\n",
    "patterns= data[0]\n",
    "\n",
    "anzula= open('anzula.csv', 'w')\n",
    "csv_writer= csv.writer(anzula)\n",
    "\n",
    "count = 0\n",
    "\n",
    "for pat in patterns:\n",
    "    if count == 0:\n",
    "        header=patterns.keys()\n",
    "        csv_writer.writerow(header)\n",
    "        count+=1\n",
    "    \n",
    "    csv_writer.writerow(patterns.values())\n",
    "\n",
    "anzula.close()"
   ]
  },
  {
   "cell_type": "code",
   "execution_count": null,
   "metadata": {},
   "outputs": [],
   "source": []
  }
 ],
 "metadata": {
  "kernelspec": {
   "display_name": "venv",
   "language": "python",
   "name": "python3"
  },
  "language_info": {
   "codemirror_mode": {
    "name": "ipython",
    "version": 3
   },
   "file_extension": ".py",
   "mimetype": "text/x-python",
   "name": "python",
   "nbconvert_exporter": "python",
   "pygments_lexer": "ipython3",
   "version": "3.12.9"
  }
 },
 "nbformat": 4,
 "nbformat_minor": 2
}
