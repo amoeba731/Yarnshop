{
 "cells": [
  {
   "cell_type": "code",
   "execution_count": 1,
   "metadata": {},
   "outputs": [],
   "source": [
    "import requests\n",
    "import pandas as pd\n",
    "from pandas import DataFrame\n",
    "from APIkey import APIkey, APIpw\n",
    "import json\n",
    "import csv\n"
   ]
  },
  {
   "cell_type": "code",
   "execution_count": null,
   "metadata": {},
   "outputs": [
    {
     "name": "stdout",
     "output_type": "stream",
     "text": [
      "(24, 10) has been added to file\n"
     ]
    }
   ],
   "source": [
    "#Call the API\n",
    "url = 'https://api.ravelry.com/patterns/search.json?yarn=Zen+Yarn+Garden+Serenity+Glitter+Sock'\n",
    "\n",
    "response=requests.get(url, auth= (APIkey, APIpw))\n",
    "\n",
    "#Get the response from API\n",
    "\n",
    "response.status_code\n",
    "\n",
    "#IF response== 200 would go here for loop\n",
    "rav_things=response.json()\n",
    "patterns= rav_things.get('patterns')\n",
    "fiber= pd.DataFrame(response.json()['patterns'])\n",
    "\n",
    "fiber['yarn']= 'Zen Yarn Garden Serenity Glitter Sock'\n",
    "\n",
    "#Write it to the file\n",
    "#fiber.to_csv('ravelry_api.csv', mode='a', index= False, header= False)\n",
    "shape= fiber.shape\n",
    "print(shape, \"has been added to file\")\n",
    "\n",
    "#ELSE print(\"Error\" response.status_code) would go here\n",
    "\n"
   ]
  }
 ],
 "metadata": {
  "kernelspec": {
   "display_name": "venv",
   "language": "python",
   "name": "python3"
  },
  "language_info": {
   "codemirror_mode": {
    "name": "ipython",
    "version": 3
   },
   "file_extension": ".py",
   "mimetype": "text/x-python",
   "name": "python",
   "nbconvert_exporter": "python",
   "pygments_lexer": "ipython3",
   "version": "3.12.9"
  }
 },
 "nbformat": 4,
 "nbformat_minor": 2
}
