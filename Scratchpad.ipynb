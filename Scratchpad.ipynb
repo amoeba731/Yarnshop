{
 "cells": [
  {
   "cell_type": "code",
   "execution_count": null,
   "metadata": {},
   "outputs": [],
   "source": [
    "#Webscrape https://www.rebellegirls.com/yarnfiber.htm for list of offered brands\n",
    "import requests\n",
    "from bs4 import BeautifulSoup\n",
    "import pandas as pd\n",
    "import json\n",
    "import csv\n",
    "\n"
   ]
  },
  {
   "cell_type": "code",
   "execution_count": null,
   "metadata": {},
   "outputs": [],
   "source": [
    "\n",
    "url = 'https://api.ravelry.com/patterns/search.json?yarn=Anzula+Haiku'\n",
    "\n",
    "\n",
    "username = 'read-cd70272bac2a02e72b3d7bdb78e2ced9'\n",
    "password = 'HH7o1YeWYmBnwPp/jcaQVOud9UkVyxHrX0IB1pau'\n",
    "    \n",
    "\n",
    "response=requests.get(url, auth= (username, password))\n",
    "\n",
    "response"
   ]
  },
  {
   "cell_type": "code",
   "execution_count": null,
   "metadata": {},
   "outputs": [],
   "source": [
    "\n",
    "rav_things=response.json()\n",
    "patterns= rav_things.get('patterns')\n",
    "Anzula_Haiku= pd.DataFrame(response.json()['patterns'])\n",
    "\n",
    "Anzula_Haiku['yarn']= 'Anzula Haiku'\n",
    "\n",
    "Anzula_Haiku.shape\n",
    "Anzula_Haiku.columns\n",
    "\n"
   ]
  },
  {
   "cell_type": "code",
   "execution_count": null,
   "metadata": {},
   "outputs": [],
   "source": [
    "df.to_csv('anzula.csv', mode='a', index= False, header= False)"
   ]
  },
  {
   "cell_type": "code",
   "execution_count": null,
   "metadata": {},
   "outputs": [],
   "source": [
    "def write_json(data, filename= \"ravelry_api.json\"):\n",
    "    with open(filename, \"w\") as f:\n",
    "        json.dump(data, f, indent=4)\n",
    "\n",
    "data=(patterns)\n",
    "write_json(data)"
   ]
  },
  {
   "cell_type": "code",
   "execution_count": null,
   "metadata": {},
   "outputs": [],
   "source": [
    "def append_json(new_data, filename='ravelry_api.json'):\n",
    "    with open('ravelry_api.json', 'r') as file:\n",
    "        \n",
    "        data= json.load(file)\n",
    "        data['patterns'].append(new_data)\n",
    "        file.seek(0)\n",
    "         \n",
    "        data.update(new_data)\n",
    "        \n",
    "    with open('ravelry_api.json', 'a+') as file:\n",
    "        json.dump(data, file)"
   ]
  },
  {
   "cell_type": "code",
   "execution_count": null,
   "metadata": {},
   "outputs": [],
   "source": [
    "new_data= (requests.request('GET','https://api.ravelry.com/patterns/search.json?yarn=Anzula+Cloud', auth=(username, password)))\n",
    "\n",
    "append_json()"
   ]
  },
  {
   "cell_type": "code",
   "execution_count": null,
   "metadata": {},
   "outputs": [],
   "source": [
    "with open('ravelry_api.json') as f:\n",
    "        \n",
    "    data= json.load(f)\n",
    "    \n",
    "\n",
    "\n",
    "print(df)"
   ]
  },
  {
   "cell_type": "code",
   "execution_count": null,
   "metadata": {},
   "outputs": [],
   "source": [
    "new_data= requests.request('GET','https://api.ravelry.com/patterns/search.json?yarn=Anzula+Cloud', auth=(username, password))"
   ]
  },
  {
   "cell_type": "code",
   "execution_count": null,
   "metadata": {},
   "outputs": [],
   "source": [
    "if response.status_code == 200:\n",
    "    for i in range(1, 400):\n",
    "        response = requests.get('https://api.ravelry.com/patterns/search.json?yarn={}', auth=(username, password).format(i))\n",
    "        temp_df = pd.DataFrame(response.json()['results'])\n",
    "        df = df.append(temp_df, ignore_index=True)\n",
    "else: \n",
    "    print('Error', response.status_code)"
   ]
  },
  {
   "cell_type": "code",
   "execution_count": null,
   "metadata": {},
   "outputs": [],
   "source": [
    "with open('ravelry_api.json') as f:\n",
    "    data= json.load(f)\n",
    "\n",
    "patterns= data['patterns']\n",
    "\n",
    "csv_writer= csv.writer(anzula)\n",
    "\n",
    "count = 0\n",
    "\n",
    "for pat in patterns:\n",
    "    if count == 0:\n",
    "        header=pat.keys()\n",
    "        csv_writer.writerow(header)\n",
    "        count+=1\n",
    "    \n",
    "    csv_writer.writerow(pat.values())\n",
    "\n",
    "anzula.close()"
   ]
  },
  {
   "cell_type": "code",
   "execution_count": 95,
   "metadata": {},
   "outputs": [],
   "source": [
    "import requests\n",
    "from bs4 import BeautifulSoup\n",
    "import pandas as pd\n",
    "import json\n",
    "import csv\n",
    "import numpy"
   ]
  },
  {
   "cell_type": "code",
   "execution_count": 96,
   "metadata": {},
   "outputs": [],
   "source": [
    "projects=pd.read_csv('ravelry_api.csv')"
   ]
  },
  {
   "cell_type": "code",
   "execution_count": 97,
   "metadata": {},
   "outputs": [],
   "source": [
    "projects.columns=['free', 'id', 'name', 'permalink', 'personal_attributes', 'first_photo',\n",
    "       'designer', 'pattern_author', 'pattern_sources', 'yarn']\n"
   ]
  },
  {
   "cell_type": "code",
   "execution_count": 98,
   "metadata": {},
   "outputs": [],
   "source": [
    "projects['pattern_author']= projects['pattern_author'].astype('str')"
   ]
  },
  {
   "cell_type": "code",
   "execution_count": 99,
   "metadata": {},
   "outputs": [
    {
     "name": "stdout",
     "output_type": "stream",
     "text": [
      "(2591, 11)\n",
      "Index(['free', 'id', 'name', 'permalink', 'personal_attributes', 'first_photo',\n",
      "       'designer', 'pattern_author', 'pattern_sources', 'yarn', 'author'],\n",
      "      dtype='object')\n"
     ]
    }
   ],
   "source": [
    "\n",
    "\n",
    "# new data frame with split value columns\n",
    "new = projects[\"pattern_author\"].str.split(\",\", n=5, expand=True)\n",
    "\n",
    "\n",
    "\n",
    "projects['author']= new[4]\n",
    "\n",
    "print(projects.shape)\n",
    "print(projects.columns)\n"
   ]
  },
  {
   "cell_type": "code",
   "execution_count": 101,
   "metadata": {},
   "outputs": [],
   "source": [
    "projects=projects.drop(['permalink','personal_attributes', 'first_photo', 'designer','pattern_author', 'pattern_sources'], axis=1)\n",
    "\n",
    "\n"
   ]
  },
  {
   "cell_type": "code",
   "execution_count": 102,
   "metadata": {},
   "outputs": [
    {
     "name": "stdout",
     "output_type": "stream",
     "text": [
      "Index(['free', 'id', 'name', 'yarn', 'author'], dtype='object')\n"
     ]
    }
   ],
   "source": [
    "print(projects.columns)"
   ]
  },
  {
   "cell_type": "code",
   "execution_count": null,
   "metadata": {},
   "outputs": [],
   "source": []
  }
 ],
 "metadata": {
  "kernelspec": {
   "display_name": "venv",
   "language": "python",
   "name": "python3"
  },
  "language_info": {
   "codemirror_mode": {
    "name": "ipython",
    "version": 3
   },
   "file_extension": ".py",
   "mimetype": "text/x-python",
   "name": "python",
   "nbconvert_exporter": "python",
   "pygments_lexer": "ipython3",
   "version": "3.12.9"
  }
 },
 "nbformat": 4,
 "nbformat_minor": 2
}
