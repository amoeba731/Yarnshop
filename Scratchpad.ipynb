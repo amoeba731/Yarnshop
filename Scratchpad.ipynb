{
 "cells": [
  {
   "cell_type": "code",
   "execution_count": 89,
   "metadata": {},
   "outputs": [],
   "source": [
    "#Webscrape https://www.rebellegirls.com/yarnfiber.htm for list of offered brands\n",
    "import requests\n",
    "from bs4 import BeautifulSoup\n",
    "import pandas as pd\n",
    "import json\n",
    "import csv\n"
   ]
  },
  {
   "cell_type": "code",
   "execution_count": 103,
   "metadata": {},
   "outputs": [
    {
     "data": {
      "text/plain": [
       "<Response [200]>"
      ]
     },
     "execution_count": 103,
     "metadata": {},
     "output_type": "execute_result"
    }
   ],
   "source": [
    "\n",
    "url = 'https://api.ravelry.com/patterns/search.json?yarn=Anzula+Haiku'\n",
    "\n",
    "\n",
    "username = 'read-cd70272bac2a02e72b3d7bdb78e2ced9'\n",
    "password = 'HH7o1YeWYmBnwPp/jcaQVOud9UkVyxHrX0IB1pau'\n",
    "    \n",
    "\n",
    "response=requests.get(url, auth= (username, password))\n",
    "\n",
    "response"
   ]
  },
  {
   "cell_type": "code",
   "execution_count": 104,
   "metadata": {},
   "outputs": [
    {
     "data": {
      "text/plain": [
       "(39, 10)"
      ]
     },
     "execution_count": 104,
     "metadata": {},
     "output_type": "execute_result"
    }
   ],
   "source": [
    "\n",
    "rav_things=response.json()\n",
    "patterns= rav_things.get('patterns')\n",
    "Anzula_Haiku= pd.DataFrame(response.json()['patterns'])\n",
    "\n",
    "Anzula_Haiku['yarn']= 'Anzula Haiku'\n",
    "\n",
    "Anzula_Haiku.shape\n"
   ]
  },
  {
   "cell_type": "code",
   "execution_count": 105,
   "metadata": {},
   "outputs": [],
   "source": [
    "df.to_csv('anzula.csv', mode='a', index= False, header= False)"
   ]
  },
  {
   "cell_type": "code",
   "execution_count": null,
   "metadata": {},
   "outputs": [],
   "source": [
    "def write_json(data, filename= \"ravelry_api.json\"):\n",
    "    with open(filename, \"w\") as f:\n",
    "        json.dump(data, f, indent=4)\n",
    "\n",
    "data=(patterns)\n",
    "write_json(data)"
   ]
  },
  {
   "cell_type": "code",
   "execution_count": null,
   "metadata": {},
   "outputs": [],
   "source": [
    "def append_json(new_data, filename='ravelry_api.json'):\n",
    "    with open('ravelry_api.json', 'r') as file:\n",
    "        \n",
    "        data= json.load(file)\n",
    "        data['patterns'].append(new_data)\n",
    "        file.seek(0)\n",
    "         \n",
    "        data.update(new_data)\n",
    "        \n",
    "    with open('ravelry_api.json', 'a+') as file:\n",
    "        json.dump(data, file)"
   ]
  },
  {
   "cell_type": "code",
   "execution_count": null,
   "metadata": {},
   "outputs": [],
   "source": [
    "new_data= (requests.request('GET','https://api.ravelry.com/patterns/search.json?yarn=Anzula+Cloud', auth=(username, password)))\n",
    "\n",
    "append_json()"
   ]
  },
  {
   "cell_type": "code",
   "execution_count": null,
   "metadata": {},
   "outputs": [],
   "source": [
    "with open('ravelry_api.json') as f:\n",
    "        \n",
    "    data= json.load(f)\n",
    "    \n",
    "\n",
    "\n",
    "print(df)"
   ]
  },
  {
   "cell_type": "code",
   "execution_count": null,
   "metadata": {},
   "outputs": [],
   "source": [
    "new_data= requests.request('GET','https://api.ravelry.com/patterns/search.json?yarn=Anzula+Cloud', auth=(username, password))"
   ]
  },
  {
   "cell_type": "code",
   "execution_count": null,
   "metadata": {},
   "outputs": [],
   "source": [
    "if response.status_code == 200:\n",
    "    for i in range(1, 400):\n",
    "        response = requests.get('https://api.ravelry.com/patterns/search.json?yarn={}', auth=(username, password).format(i))\n",
    "        temp_df = pd.DataFrame(response.json()['results'])\n",
    "        df = df.append(temp_df, ignore_index=True)\n",
    "else: \n",
    "    print('Error', response.status_code)"
   ]
  },
  {
   "cell_type": "code",
   "execution_count": null,
   "metadata": {},
   "outputs": [],
   "source": [
    "with open('ravelry_api.json') as f:\n",
    "    data= json.load(f)\n",
    "\n",
    "patterns= data['patterns']\n",
    "\n",
    "csv_writer= csv.writer(anzula)\n",
    "\n",
    "count = 0\n",
    "\n",
    "for pat in patterns:\n",
    "    if count == 0:\n",
    "        header=pat.keys()\n",
    "        csv_writer.writerow(header)\n",
    "        count+=1\n",
    "    \n",
    "    csv_writer.writerow(pat.values())\n",
    "\n",
    "anzula.close()"
   ]
  },
  {
   "cell_type": "code",
   "execution_count": null,
   "metadata": {},
   "outputs": [],
   "source": []
  }
 ],
 "metadata": {
  "kernelspec": {
   "display_name": "venv",
   "language": "python",
   "name": "python3"
  },
  "language_info": {
   "codemirror_mode": {
    "name": "ipython",
    "version": 3
   },
   "file_extension": ".py",
   "mimetype": "text/x-python",
   "name": "python",
   "nbconvert_exporter": "python",
   "pygments_lexer": "ipython3",
   "version": "3.12.9"
  }
 },
 "nbformat": 4,
 "nbformat_minor": 2
}
