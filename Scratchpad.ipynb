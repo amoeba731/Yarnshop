{
 "cells": [
  {
   "cell_type": "code",
   "execution_count": null,
   "metadata": {},
   "outputs": [],
   "source": [
    "#Webscrape https://www.rebellegirls.com/yarnfiber.htm for list of offered brands\n",
    "import requests\n",
    "from bs4 import BeautifulSoup\n",
    "import pandas as pd\n",
    "import json\n",
    "import csv\n",
    "\n"
   ]
  },
  {
   "cell_type": "code",
   "execution_count": null,
   "metadata": {},
   "outputs": [],
   "source": [
    "\n",
    "url = 'https://api.ravelry.com/patterns/search.json?yarn=Anzula+Haiku'\n",
    "\n",
    "\n",
    "username = 'read-cd70272bac2a02e72b3d7bdb78e2ced9'\n",
    "password = 'HH7o1YeWYmBnwPp/jcaQVOud9UkVyxHrX0IB1pau'\n",
    "    \n",
    "\n",
    "response=requests.get(url, auth= (username, password))\n",
    "\n",
    "response"
   ]
  },
  {
   "cell_type": "code",
   "execution_count": null,
   "metadata": {},
   "outputs": [],
   "source": [
    "\n",
    "rav_things=response.json()\n",
    "patterns= rav_things.get('patterns')\n",
    "Anzula_Haiku= pd.DataFrame(response.json()['patterns'])\n",
    "\n",
    "Anzula_Haiku['yarn']= 'Anzula Haiku'\n",
    "\n",
    "Anzula_Haiku.shape\n",
    "Anzula_Haiku.columns\n",
    "\n"
   ]
  },
  {
   "cell_type": "code",
   "execution_count": null,
   "metadata": {},
   "outputs": [],
   "source": [
    "df.to_csv('anzula.csv', mode='a', index= False, header= False)"
   ]
  },
  {
   "cell_type": "code",
   "execution_count": null,
   "metadata": {},
   "outputs": [],
   "source": [
    "def write_json(data, filename= \"ravelry_api.json\"):\n",
    "    with open(filename, \"w\") as f:\n",
    "        json.dump(data, f, indent=4)\n",
    "\n",
    "data=(patterns)\n",
    "write_json(data)"
   ]
  },
  {
   "cell_type": "code",
   "execution_count": null,
   "metadata": {},
   "outputs": [],
   "source": [
    "def append_json(new_data, filename='ravelry_api.json'):\n",
    "    with open('ravelry_api.json', 'r') as file:\n",
    "        \n",
    "        data= json.load(file)\n",
    "        data['patterns'].append(new_data)\n",
    "        file.seek(0)\n",
    "         \n",
    "        data.update(new_data)\n",
    "        \n",
    "    with open('ravelry_api.json', 'a+') as file:\n",
    "        json.dump(data, file)"
   ]
  },
  {
   "cell_type": "code",
   "execution_count": null,
   "metadata": {},
   "outputs": [],
   "source": [
    "new_data= (requests.request('GET','https://api.ravelry.com/patterns/search.json?yarn=Anzula+Cloud', auth=(username, password)))\n",
    "\n",
    "append_json()"
   ]
  },
  {
   "cell_type": "code",
   "execution_count": null,
   "metadata": {},
   "outputs": [],
   "source": [
    "with open('ravelry_api.json') as f:\n",
    "        \n",
    "    data= json.load(f)\n",
    "    \n",
    "\n",
    "\n",
    "print(df)"
   ]
  },
  {
   "cell_type": "code",
   "execution_count": null,
   "metadata": {},
   "outputs": [],
   "source": [
    "new_data= requests.request('GET','https://api.ravelry.com/patterns/search.json?yarn=Anzula+Cloud', auth=(username, password))"
   ]
  },
  {
   "cell_type": "code",
   "execution_count": null,
   "metadata": {},
   "outputs": [],
   "source": [
    "if response.status_code == 200:\n",
    "    for i in range(1, 400):\n",
    "        response = requests.get('https://api.ravelry.com/patterns/search.json?yarn={}', auth=(username, password).format(i))\n",
    "        temp_df = pd.DataFrame(response.json()['results'])\n",
    "        df = df.append(temp_df, ignore_index=True)\n",
    "else: \n",
    "    print('Error', response.status_code)"
   ]
  },
  {
   "cell_type": "code",
   "execution_count": null,
   "metadata": {},
   "outputs": [],
   "source": [
    "with open('ravelry_api.json') as f:\n",
    "    data= json.load(f)\n",
    "\n",
    "patterns= data['patterns']\n",
    "\n",
    "csv_writer= csv.writer(anzula)\n",
    "\n",
    "count = 0\n",
    "\n",
    "for pat in patterns:\n",
    "    if count == 0:\n",
    "        header=pat.keys()\n",
    "        csv_writer.writerow(header)\n",
    "        count+=1\n",
    "    \n",
    "    csv_writer.writerow(pat.values())\n",
    "\n",
    "anzula.close()"
   ]
  },
  {
   "cell_type": "code",
   "execution_count": 106,
   "metadata": {},
   "outputs": [],
   "source": [
    "import requests\n",
    "from bs4 import BeautifulSoup\n",
    "import pandas as pd\n",
    "import json\n",
    "import csv\n",
    "import numpy as np\n",
    "import matplotlib.pyplot as plt"
   ]
  },
  {
   "cell_type": "code",
   "execution_count": 107,
   "metadata": {},
   "outputs": [],
   "source": [
    "projects=pd.read_csv('ravelry_api.csv')\n",
    "rebelle_list=pd.read_csv('rebelle_webscrape.csv')"
   ]
  },
  {
   "cell_type": "code",
   "execution_count": 108,
   "metadata": {},
   "outputs": [],
   "source": [
    "projects.columns=['free', 'id', 'name', 'permalink', 'personal_attributes', 'first_photo',\n",
    "       'designer', 'pattern_author', 'pattern_sources', 'yarn']\n"
   ]
  },
  {
   "cell_type": "code",
   "execution_count": 109,
   "metadata": {},
   "outputs": [],
   "source": [
    "projects['pattern_author']= projects['pattern_author'].astype('str')"
   ]
  },
  {
   "cell_type": "code",
   "execution_count": 110,
   "metadata": {},
   "outputs": [
    {
     "name": "stdout",
     "output_type": "stream",
     "text": [
      "(3015, 11)\n",
      "Index(['free', 'id', 'name', 'permalink', 'personal_attributes', 'first_photo',\n",
      "       'designer', 'pattern_author', 'pattern_sources', 'yarn', 'author'],\n",
      "      dtype='object')\n"
     ]
    }
   ],
   "source": [
    "\n",
    "\n",
    "# new data frame with split value columns\n",
    "new = projects[\"pattern_author\"].str.split(\",\", n=5, expand=True)\n",
    "\n",
    "\n",
    "\n",
    "projects['author']= new[4]\n",
    "\n",
    "print(projects.shape)\n",
    "print(projects.columns)\n"
   ]
  },
  {
   "cell_type": "code",
   "execution_count": 111,
   "metadata": {},
   "outputs": [],
   "source": [
    "projects=projects.drop(['permalink','personal_attributes', 'first_photo', 'designer','pattern_author', 'pattern_sources'], axis=1)\n",
    "\n",
    "\n"
   ]
  },
  {
   "cell_type": "code",
   "execution_count": 112,
   "metadata": {},
   "outputs": [
    {
     "name": "stdout",
     "output_type": "stream",
     "text": [
      "Index(['free', 'id', 'name', 'yarn', 'author'], dtype='object')\n"
     ]
    }
   ],
   "source": [
    "print(projects.columns)"
   ]
  },
  {
   "cell_type": "code",
   "execution_count": 113,
   "metadata": {},
   "outputs": [],
   "source": [
    "def clean(projects) -> pd.DataFrame:\n",
    "    projects.columns= projects.columns.str.title()\n",
    "    projects.columns= projects.columns.str.strip()\n",
    "\n",
    "    return projects\n",
    "\n",
    "projects= clean(projects)"
   ]
  },
  {
   "cell_type": "code",
   "execution_count": 114,
   "metadata": {},
   "outputs": [
    {
     "data": {
      "text/html": [
       "<div>\n",
       "<style scoped>\n",
       "    .dataframe tbody tr th:only-of-type {\n",
       "        vertical-align: middle;\n",
       "    }\n",
       "\n",
       "    .dataframe tbody tr th {\n",
       "        vertical-align: top;\n",
       "    }\n",
       "\n",
       "    .dataframe thead th {\n",
       "        text-align: right;\n",
       "    }\n",
       "</style>\n",
       "<table border=\"1\" class=\"dataframe\">\n",
       "  <thead>\n",
       "    <tr style=\"text-align: right;\">\n",
       "      <th></th>\n",
       "      <th>Free</th>\n",
       "      <th>Id</th>\n",
       "      <th>Name</th>\n",
       "      <th>Yarn</th>\n",
       "      <th>Author</th>\n",
       "    </tr>\n",
       "  </thead>\n",
       "  <tbody>\n",
       "    <tr>\n",
       "      <th>0</th>\n",
       "      <td>No</td>\n",
       "      <td>706936</td>\n",
       "      <td>Puff Stitch Hat</td>\n",
       "      <td>Adriafil Knitcol</td>\n",
       "      <td>Deborah Kah</td>\n",
       "    </tr>\n",
       "    <tr>\n",
       "      <th>1</th>\n",
       "      <td>Yes</td>\n",
       "      <td>650697</td>\n",
       "      <td>Toe-Up Worsted Socks</td>\n",
       "      <td>Adriafil Knitcol</td>\n",
       "      <td>Colette Retrosi</td>\n",
       "    </tr>\n",
       "  </tbody>\n",
       "</table>\n",
       "</div>"
      ],
      "text/plain": [
       "  Free      Id                  Name              Yarn           Author\n",
       "0   No  706936       Puff Stitch Hat  Adriafil Knitcol      Deborah Kah\n",
       "1  Yes  650697  Toe-Up Worsted Socks  Adriafil Knitcol  Colette Retrosi"
      ]
     },
     "execution_count": 114,
     "metadata": {},
     "output_type": "execute_result"
    }
   ],
   "source": [
    "projects['Author']=projects['Author'].astype('str')\n",
    "projects['Author']=projects['Author'].str.strip(\"'name': '\")\n",
    "\n",
    "projects['Free']=projects['Free'].astype('str')\n",
    "projects['Free']=projects['Free'].str.replace('False', 'No')\n",
    "projects['Free']=projects['Free'].str.replace('True', 'Yes')\n",
    "\n",
    "projects.head(2)"
   ]
  },
  {
   "cell_type": "code",
   "execution_count": 115,
   "metadata": {},
   "outputs": [
    {
     "data": {
      "text/html": [
       "<div>\n",
       "<style scoped>\n",
       "    .dataframe tbody tr th:only-of-type {\n",
       "        vertical-align: middle;\n",
       "    }\n",
       "\n",
       "    .dataframe tbody tr th {\n",
       "        vertical-align: top;\n",
       "    }\n",
       "\n",
       "    .dataframe thead th {\n",
       "        text-align: right;\n",
       "    }\n",
       "</style>\n",
       "<table border=\"1\" class=\"dataframe\">\n",
       "  <thead>\n",
       "    <tr style=\"text-align: right;\">\n",
       "      <th></th>\n",
       "      <th>Rebelle Stock</th>\n",
       "      <th>Free</th>\n",
       "      <th>Id</th>\n",
       "      <th>Name</th>\n",
       "      <th>Yarn</th>\n",
       "      <th>Author</th>\n",
       "    </tr>\n",
       "  </thead>\n",
       "  <tbody>\n",
       "    <tr>\n",
       "      <th>0</th>\n",
       "      <td>Adriafil Knitcol</td>\n",
       "      <td>No</td>\n",
       "      <td>706936</td>\n",
       "      <td>Puff Stitch Hat</td>\n",
       "      <td>Adriafil Knitcol</td>\n",
       "      <td>Deborah Kah</td>\n",
       "    </tr>\n",
       "    <tr>\n",
       "      <th>1</th>\n",
       "      <td>Adriafil Knitcol</td>\n",
       "      <td>Yes</td>\n",
       "      <td>650697</td>\n",
       "      <td>Toe-Up Worsted Socks</td>\n",
       "      <td>Adriafil Knitcol</td>\n",
       "      <td>Colette Retrosi</td>\n",
       "    </tr>\n",
       "  </tbody>\n",
       "</table>\n",
       "</div>"
      ],
      "text/plain": [
       "      Rebelle Stock Free      Id                  Name              Yarn  \\\n",
       "0  Adriafil Knitcol   No  706936       Puff Stitch Hat  Adriafil Knitcol   \n",
       "1  Adriafil Knitcol  Yes  650697  Toe-Up Worsted Socks  Adriafil Knitcol   \n",
       "\n",
       "            Author  \n",
       "0      Deborah Kah  \n",
       "1  Colette Retrosi  "
      ]
     },
     "execution_count": 115,
     "metadata": {},
     "output_type": "execute_result"
    }
   ],
   "source": [
    "rebelle_projects= (pd.merge(rebelle_list, projects, left_on= \"Rebelle Stock\", right_on= \"Yarn\"))\n",
    "\n",
    "rebelle_projects.head(2)"
   ]
  },
  {
   "cell_type": "code",
   "execution_count": 127,
   "metadata": {},
   "outputs": [
    {
     "data": {
      "text/html": [
       "<div>\n",
       "<style scoped>\n",
       "    .dataframe tbody tr th:only-of-type {\n",
       "        vertical-align: middle;\n",
       "    }\n",
       "\n",
       "    .dataframe tbody tr th {\n",
       "        vertical-align: top;\n",
       "    }\n",
       "\n",
       "    .dataframe thead th {\n",
       "        text-align: right;\n",
       "    }\n",
       "</style>\n",
       "<table border=\"1\" class=\"dataframe\">\n",
       "  <thead>\n",
       "    <tr style=\"text-align: right;\">\n",
       "      <th></th>\n",
       "      <th>count</th>\n",
       "    </tr>\n",
       "    <tr>\n",
       "      <th>Rebelle Stock</th>\n",
       "      <th></th>\n",
       "    </tr>\n",
       "  </thead>\n",
       "  <tbody>\n",
       "    <tr>\n",
       "      <th>Cascade Pacific</th>\n",
       "      <td>57</td>\n",
       "    </tr>\n",
       "    <tr>\n",
       "      <th>Cascade 128 Superwash</th>\n",
       "      <td>44</td>\n",
       "    </tr>\n",
       "  </tbody>\n",
       "</table>\n",
       "</div>"
      ],
      "text/plain": [
       "                       count\n",
       "Rebelle Stock               \n",
       "Cascade Pacific           57\n",
       "Cascade 128 Superwash     44"
      ]
     },
     "execution_count": 127,
     "metadata": {},
     "output_type": "execute_result"
    }
   ],
   "source": [
    "free_patterns= rebelle_projects[rebelle_projects['Free']== 'Yes']\n",
    "paid_patterns= rebelle_projects[rebelle_projects['Free']== 'No']\n",
    "free_yarn= pd.DataFrame(free_patterns['Rebelle Stock'].value_counts())\n",
    "paid_yarn=pd.DataFrame(paid_patterns['Rebelle Stock'].value_counts())\n",
    "free_yarn.head(2)"
   ]
  },
  {
   "cell_type": "code",
   "execution_count": 130,
   "metadata": {},
   "outputs": [
    {
     "data": {
      "text/plain": [
       "Index(['count_x', 'count_y'], dtype='object')"
      ]
     },
     "execution_count": 130,
     "metadata": {},
     "output_type": "execute_result"
    }
   ],
   "source": [
    "\n",
    "yarn_sorted=free_yarn.merge(paid_yarn, on='Rebelle Stock', how= 'outer')\n",
    "yarn_sorted.reset_index()\n",
    "yarn_sorted.columns"
   ]
  },
  {
   "cell_type": "code",
   "execution_count": 133,
   "metadata": {},
   "outputs": [
    {
     "data": {
      "text/plain": [
       "<Axes: xlabel='Rebelle Stock'>"
      ]
     },
     "execution_count": 133,
     "metadata": {},
     "output_type": "execute_result"
    },
    {
     "data": {
      "image/png": "[encoded data removed]",
      "text/plain": [
       "<Figure size 640x480 with 1 Axes>"
      ]
     },
     "metadata": {},
     "output_type": "display_data"
    }
   ],
   "source": [
    "yarn_sorted.plot(kind='bar', stacked=True)\n"
   ]
  },
  {
   "cell_type": "code",
   "execution_count": null,
   "metadata": {},
   "outputs": [],
   "source": []
  }
 ],
 "metadata": {
  "kernelspec": {
   "display_name": "venv",
   "language": "python",
   "name": "python3"
  },
  "language_info": {
   "codemirror_mode": {
    "name": "ipython",
    "version": 3
   },
   "file_extension": ".py",
   "mimetype": "text/x-python",
   "name": "python",
   "nbconvert_exporter": "python",
   "pygments_lexer": "ipython3",
   "version": "3.12.9"
  }
 },
 "nbformat": 4,
 "nbformat_minor": 2
}
